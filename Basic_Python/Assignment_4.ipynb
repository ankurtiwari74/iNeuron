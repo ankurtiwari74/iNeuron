{
 "cells": [
  {
   "cell_type": "markdown",
   "id": "48942128",
   "metadata": {},
   "source": [
    "### 1. What exactly is []?\n",
    "\n",
    "Using these square brackets, we can initiate a empty list."
   ]
  },
  {
   "cell_type": "markdown",
   "id": "5d4acb89",
   "metadata": {},
   "source": [
    "### 2. In a list of values stored in a variable called spam, how would you assign the value &#39;hello&#39; as the third value? (Assume [2, 4, 6, 8, 10] are in spam.)\n",
    "\n",
    "There are two approches:\n",
    "\n",
    "1. spam[2] = \"hello\"\n",
    "\n",
    "2. spam.insert(2, \"hello\")"
   ]
  },
  {
   "cell_type": "markdown",
   "id": "12529cc1",
   "metadata": {},
   "source": [
    "## Let&#39;s pretend the spam includes the list [&#39;a&#39;, &#39;b&#39;, &#39;c&#39;, &#39;d&#39;] for the next three queries.\n",
    "\n",
    "### 3. What is the value of spam[int(int(&#39;3&#39; * 2) / 11)]?\n",
    "\n",
    "'d'\n",
    "\n",
    "\n",
    "### 4. What is the value of spam[-1]?\n",
    "\n",
    "'d'\n",
    "\n",
    "### 5. What is the value of spam[:2]?\n",
    "\n",
    "'a', 'b'"
   ]
  },
  {
   "cell_type": "markdown",
   "id": "b513f683",
   "metadata": {},
   "source": [
    "## Let&#39;s pretend bacon has the list [3.14, &#39;cat,&#39; 11, &#39;cat,&#39; True] for the next three questions.\n",
    "\n",
    "### 6. What is the value of bacon.index(&#39;cat&#39;)?\n",
    "\n",
    "1\n",
    "\n",
    "### 7. How does bacon.append(99) change the look of the list value in bacon?\n",
    "\n",
    "It will add 99 to end of the list. [3.14, 'cat', 11, 'cat', True, 99]\n",
    "\n",
    "### 8. How does bacon.remove(&#39;cat&#39;) change the look of the list in bacon?\n",
    "\n",
    "It will remove the value 'cat' from list. [3.14, 11, 'cat' True, 99]"
   ]
  },
  {
   "cell_type": "markdown",
   "id": "73bd9f52",
   "metadata": {},
   "source": [
    "### 9. What are the list concatenation and list replication operators?\n",
    "\n",
    "The operator for list concatenation is +, while the operator for replication is *."
   ]
  },
  {
   "cell_type": "markdown",
   "id": "6176f522",
   "metadata": {},
   "source": [
    "### 10. What is difference between the list methods append() and insert()?\n",
    "\n",
    "append(): Will add the object at the end of the list.\n",
    "\n",
    "insert(): Will add the object at any specified index of the list."
   ]
  },
  {
   "cell_type": "markdown",
   "id": "55838d6e",
   "metadata": {},
   "source": [
    "### 11. What are the two methods for removing items from a list?\n",
    "\n",
    "pop() & remove()"
   ]
  },
  {
   "cell_type": "markdown",
   "id": "4aa534b2",
   "metadata": {},
   "source": [
    "### 12. Describe how list values and string values are identical.\n",
    "\n",
    "Both supports indexing and slicing."
   ]
  },
  {
   "cell_type": "markdown",
   "id": "eb1a2322",
   "metadata": {},
   "source": [
    "### 13. What&#39;s the difference between tuples and lists?\n",
    "\n",
    "There is only one difference, tuples are immutable and lists are mutable."
   ]
  },
  {
   "cell_type": "markdown",
   "id": "d95f2c96",
   "metadata": {},
   "source": [
    "### 14. How do you type a tuple value that only contains the integer 42?\n",
    "\n",
    "(42,)"
   ]
  },
  {
   "cell_type": "markdown",
   "id": "922ff1df",
   "metadata": {},
   "source": [
    "### 15. How do you get a list value&#39;s tuple form? How do you get a tuple value&#39;s list form?\n",
    "\n",
    "list(tuple_form)\n",
    "\n",
    "tuple(list_form)"
   ]
  },
  {
   "cell_type": "markdown",
   "id": "b297014d",
   "metadata": {},
   "source": [
    "### 16. Variables that 'contain' list values are not necessarily lists themselves. Instead, what do they contain?\n",
    "\n",
    "Address of the variable or location of the object in memory."
   ]
  },
  {
   "cell_type": "markdown",
   "id": "2100a509",
   "metadata": {},
   "source": [
    "### 17. How do you distinguish between copy.copy() and copy.deepcopy()?\n",
    "\n",
    "copy.copy(): Will give us the shallow copy of the object, where it just copy the address or reference of the object.\n",
    "\n",
    "copy.deepcopy(): Will give us the deep copy of the object, where it will copy the values of the object and create the new reference with these copied values and pass the reference of this new object."
   ]
  }
 ],
 "metadata": {
  "kernelspec": {
   "display_name": "Python 3",
   "language": "python",
   "name": "python3"
  },
  "language_info": {
   "codemirror_mode": {
    "name": "ipython",
    "version": 3
   },
   "file_extension": ".py",
   "mimetype": "text/x-python",
   "name": "python",
   "nbconvert_exporter": "python",
   "pygments_lexer": "ipython3",
   "version": "3.8.8"
  }
 },
 "nbformat": 4,
 "nbformat_minor": 5
}
