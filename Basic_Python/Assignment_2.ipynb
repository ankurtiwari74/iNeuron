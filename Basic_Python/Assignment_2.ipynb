{
 "cells": [
  {
   "cell_type": "markdown",
   "id": "ec60e112",
   "metadata": {},
   "source": [
    "### 1.What are the two values of the Boolean data type? How do you write them?\n",
    "\n",
    "True & False"
   ]
  },
  {
   "cell_type": "markdown",
   "id": "0a0db484",
   "metadata": {},
   "source": [
    "### 2. What are the three different types of Boolean operators?\n",
    "\n",
    "AND\n",
    "\n",
    "OR\n",
    "\n",
    "NOT"
   ]
  },
  {
   "cell_type": "markdown",
   "id": "d62b8196",
   "metadata": {},
   "source": [
    "### 3. Make a list of each Boolean operator&#39;s truth tables (i.e. every possible combination of Boolean values for the operator and what it evaluate ).\n",
    "\n",
    "and:\n",
    "\n",
    "T | T | T\n",
    "\n",
    "T | F | F\n",
    "\n",
    "F | T | F\n",
    "\n",
    "F | F | F\n",
    "\n",
    "or:\n",
    "\n",
    "T | T | T\n",
    "\n",
    "T | F | T\n",
    "\n",
    "F | T | T\n",
    "\n",
    "F | F | F\n",
    "\n",
    "not:\n",
    "\n",
    "T | F\n",
    "\n",
    "F | T"
   ]
  },
  {
   "cell_type": "markdown",
   "id": "0dcd1b88",
   "metadata": {},
   "source": [
    "### 4. What are the values of the following expressions?\n",
    "\n",
    "###### 1. (5 &gt; 4) and (3 == 5)\n",
    "\n",
    "###### 2. not (5 &gt; 4)\n",
    "\n",
    "###### 3. (5 &gt; 4) or (3 == 5)\n",
    "\n",
    "###### 4. not ((5 &gt; 4) or (3 == 5))\n",
    "\n",
    "###### 5. (True and True) and (True == False)\n",
    "\n",
    "###### 6. (not False) or (not True)\n",
    "\n",
    "\n",
    "1. False\n",
    "\n",
    "2. False\n",
    "\n",
    "3. True\n",
    "\n",
    "4. False\n",
    "\n",
    "5. False\n",
    "\n",
    "6. True"
   ]
  },
  {
   "cell_type": "markdown",
   "id": "a3cfa545",
   "metadata": {},
   "source": [
    "### 5. What are the six comparison operators?\n",
    "\n",
    "==\n",
    "\n",
    "<=\n",
    "\n",
    "\\>=\n",
    "\n",
    "!=\n",
    "\n",
    "\\>\n",
    "\n",
    "<"
   ]
  },
  {
   "cell_type": "markdown",
   "id": "0e9df236",
   "metadata": {},
   "source": [
    "### 6. How do you tell the difference between the equal to and assignment operators? Describe a condition and when you would use one.\n",
    "\n",
    "Assignment Operator has only one equal sign.\n",
    "\n",
    "Comparision Operator has two equal signs.\n",
    "\n",
    "eg. \n",
    "\n",
    "a = 10\n",
    "\n",
    "True == False"
   ]
  },
  {
   "cell_type": "markdown",
   "id": "69b71a90",
   "metadata": {},
   "source": [
    "### 7. Identify the three blocks in this code:\n",
    "spam = 0\n",
    "\n",
    "if spam == 10:\n",
    "\n",
    "    print('eggs')\n",
    "\n",
    "if spam > 5:\n",
    "\n",
    "    print('bacon')\n",
    "\n",
    "else:\n",
    "\n",
    "    print('ham')\n",
    "    \n",
    "    print('spam')\n",
    "\n",
    "print('spam')\n",
    "\n",
    "##### Two if blocks and one else block"
   ]
  },
  {
   "cell_type": "markdown",
   "id": "1c525789",
   "metadata": {},
   "source": [
    "### 8. Write code that prints Hello if 1 is stored in spam, prints Howdy if 2 is stored in spam, and prints Greetings! if anything else is stored in spam."
   ]
  },
  {
   "cell_type": "code",
   "execution_count": 2,
   "id": "e53f6525",
   "metadata": {},
   "outputs": [
    {
     "name": "stdout",
     "output_type": "stream",
     "text": [
      "Hello\n"
     ]
    }
   ],
   "source": [
    "spam = 1\n",
    "if spam == 1:\n",
    "    print(\"Hello\")\n",
    "elif spam == 2:\n",
    "    print(\"Howdy\")\n",
    "else:\n",
    "    print(\"Greetings!\")"
   ]
  },
  {
   "cell_type": "markdown",
   "id": "6fffd86a",
   "metadata": {},
   "source": [
    "### 9. If your programme is stuck in an endless loop, what keys you’ll press?\n",
    "\n",
    "I will press control + c (ctrl+c)"
   ]
  },
  {
   "cell_type": "markdown",
   "id": "85ba8fcb",
   "metadata": {},
   "source": [
    "### 10. How can you tell the difference between break and continue?\n",
    "\n",
    "Break will stop iterating in loop and come out of the loop.\n",
    "\n",
    "Continue will skip the current iteration and execute the next iteration."
   ]
  },
  {
   "cell_type": "markdown",
   "id": "29829e05",
   "metadata": {},
   "source": [
    "### 11. In a for loop, what is the difference between range(10), range(0, 10), and range(0, 10, 1)?\n",
    "It has only one difference of representation, else they all work same in loop."
   ]
  },
  {
   "cell_type": "markdown",
   "id": "19b2e4d4",
   "metadata": {},
   "source": [
    "### 12. Write a short program that prints the numbers 1 to 10 using a for loop. Then write an equivalent program that prints the numbers 1 to 10 using a while loop."
   ]
  },
  {
   "cell_type": "code",
   "execution_count": 3,
   "id": "c76cb1f5",
   "metadata": {},
   "outputs": [
    {
     "name": "stdout",
     "output_type": "stream",
     "text": [
      "1\n",
      "2\n",
      "3\n",
      "4\n",
      "5\n",
      "6\n",
      "7\n",
      "8\n",
      "9\n",
      "10\n"
     ]
    }
   ],
   "source": [
    "for i in range(1, 11):\n",
    "    print(i)"
   ]
  },
  {
   "cell_type": "code",
   "execution_count": 4,
   "id": "c2c433a1",
   "metadata": {},
   "outputs": [
    {
     "name": "stdout",
     "output_type": "stream",
     "text": [
      "1\n",
      "2\n",
      "3\n",
      "4\n",
      "5\n",
      "6\n",
      "7\n",
      "8\n",
      "9\n",
      "10\n"
     ]
    }
   ],
   "source": [
    "i = 1\n",
    "while i <= 10:\n",
    "    print(i)\n",
    "    i += 1"
   ]
  },
  {
   "cell_type": "markdown",
   "id": "d1237dad",
   "metadata": {},
   "source": [
    "### 13. If you had a function named bacon() inside a module named spam, how would you call it after importing spam?\n",
    "\n",
    "spam.bacon()"
   ]
  }
 ],
 "metadata": {
  "kernelspec": {
   "display_name": "Python 3",
   "language": "python",
   "name": "python3"
  },
  "language_info": {
   "codemirror_mode": {
    "name": "ipython",
    "version": 3
   },
   "file_extension": ".py",
   "mimetype": "text/x-python",
   "name": "python",
   "nbconvert_exporter": "python",
   "pygments_lexer": "ipython3",
   "version": "3.8.8"
  }
 },
 "nbformat": 4,
 "nbformat_minor": 5
}
