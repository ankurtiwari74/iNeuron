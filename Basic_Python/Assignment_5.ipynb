{
 "cells": [
  {
   "cell_type": "markdown",
   "id": "1da75a60",
   "metadata": {},
   "source": [
    "### 1. What does an empty dictionary's code look like?\n",
    "\n",
    "There two option to define an empty dictionary:\n",
    "1. dict()\n",
    "2. {}"
   ]
  },
  {
   "cell_type": "markdown",
   "id": "e8afd1d4",
   "metadata": {},
   "source": [
    "### 2. What is the value of a dictionary value with the key &#39;foo&#39; and the value 42?\n",
    "\n",
    "d['foo'] = 42\n",
    "\n",
    "print(d) => {\"foo\":42}"
   ]
  },
  {
   "cell_type": "markdown",
   "id": "fdf80f65",
   "metadata": {},
   "source": [
    "### 3. What is the most significant distinction between a dictionary and a list?\n",
    "\n",
    "List is an ordered data structure and on the other hand, dictionary is unordered data structure. Dictionary doesn't support indexing and slicing."
   ]
  },
  {
   "cell_type": "markdown",
   "id": "40199880",
   "metadata": {},
   "source": [
    "### 4. What happens if you try to access spam['foo'] if spam is {'bar': 100}?\n",
    "\n",
    "Will get KeyError, as key is not available in the dictionary."
   ]
  },
  {
   "cell_type": "markdown",
   "id": "ab9aa530",
   "metadata": {},
   "source": [
    "### 5. If a dictionary is stored in spam, what is the difference between the expressions 'cat' in spam and 'cat' in spam.keys()?\n",
    "\n",
    "There is no such difference between two above statements, as both of the will be looking into keys."
   ]
  },
  {
   "cell_type": "markdown",
   "id": "a3b6d7e2",
   "metadata": {},
   "source": [
    "### 6. If a dictionary is stored in spam, what is the difference between the expressions 'cat' in spam and 'cat' in spam.values()?\n",
    "\n",
    "In 'cat' in spam, we are looking into keys of the dictionary. And in other statement, we are looking for 'cat' into values."
   ]
  },
  {
   "cell_type": "markdown",
   "id": "a414195f",
   "metadata": {},
   "source": [
    "### 7. What is a shortcut for the following code?\n",
    "#### if 'color' not in spam:\n",
    "    spam['color'] = 'black';\n",
    "    \n",
    "### spam.setdefault('color', 'black')"
   ]
  },
  {
   "cell_type": "markdown",
   "id": "690091c5",
   "metadata": {},
   "source": [
    "### 8. How do you &quot;pretty print&quot; dictionary values using which module and function?\n",
    "\n",
    "pprint(), we will this function to print dictionary."
   ]
  }
 ],
 "metadata": {
  "kernelspec": {
   "display_name": "Python 3",
   "language": "python",
   "name": "python3"
  },
  "language_info": {
   "codemirror_mode": {
    "name": "ipython",
    "version": 3
   },
   "file_extension": ".py",
   "mimetype": "text/x-python",
   "name": "python",
   "nbconvert_exporter": "python",
   "pygments_lexer": "ipython3",
   "version": "3.8.8"
  }
 },
 "nbformat": 4,
 "nbformat_minor": 5
}
