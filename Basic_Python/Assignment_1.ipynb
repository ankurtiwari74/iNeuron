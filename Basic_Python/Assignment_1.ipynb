{
 "cells": [
  {
   "cell_type": "markdown",
   "id": "9a8022a2",
   "metadata": {},
   "source": [
    "### 1. In the below elements which of them are values or an expression? eg:- values can be integer or string and expressions will be mathematical operators."
   ]
  },
  {
   "cell_type": "markdown",
   "id": "c50567e6",
   "metadata": {},
   "source": [
    "\\*        ----> Expression \n",
    "\n",
    "'hello'  ----> Value\n",
    "\n",
    "-87.8    ----> Value\n",
    "\n",
    "\\-        ----> Expression\n",
    "\n",
    "/        ----> Expression\n",
    "\n",
    "\\+        ----> Expression\n",
    "\n",
    "6        ----> Value"
   ]
  },
  {
   "cell_type": "markdown",
   "id": "2e5a0349",
   "metadata": {},
   "source": [
    "### 2. What is the difference between string and variable?"
   ]
  },
  {
   "cell_type": "markdown",
   "id": "f8094bcc",
   "metadata": {},
   "source": [
    "## String:\n",
    "\n",
    "String is a sequence of Unicode characters. It can be surrounded by single quotes or double quotes.\n",
    "\n",
    "eg.\n",
    "\n",
    "a = 'Hello World'\n",
    "\n",
    "b = \"Hello World\"\n",
    "\n",
    "Above two examples are for single line string.\n",
    "\n",
    "Let's have two examples for Multiline Strings:\n",
    "\n",
    "eg.\n",
    "\n",
    "c = \n",
    "    \"\"\"\n",
    "\n",
    "    Hello\n",
    "\n",
    "    World\n",
    "    \n",
    "    \"\"\"\n",
    "\n",
    "d = \n",
    "    '''\n",
    "    \n",
    "    Hello\n",
    "    \n",
    "    World\n",
    "    \n",
    "    '''\n",
    "\n",
    "\n",
    "## Variable:\n",
    "\n",
    "Variables are containers for storing data values.\n",
    "\n",
    "eg.\n",
    "\n",
    "a = 10\n",
    "\n",
    "b = 20.1\n",
    "\n",
    "Here a and b are the examples of Variable.\n"
   ]
  },
  {
   "cell_type": "markdown",
   "id": "5f6d09e9",
   "metadata": {},
   "source": [
    "### 3. Describe three different data types."
   ]
  },
  {
   "cell_type": "markdown",
   "id": "abfb97fd",
   "metadata": {},
   "source": [
    "### Number:\n",
    "\n",
    "It has three different type of numerics:\n",
    "    1. int\n",
    "    2. float\n",
    "    3. complex\n",
    "    \n",
    "In int (integer), we have a whole number, positive or negative but without decimal.\n",
    "\n",
    "In float, we have a whole number, positive or negative but with decimal.\n",
    "\n",
    "In Complex, we have a sum of real and imaginary number.\n",
    "\n",
    "### String:\n",
    "\n",
    "Strings are surrounded by either single quotation, or double quotation.\n",
    "\n",
    "### List:\n",
    "\n",
    "List are the datatype, which we can use to store different type of items into it. We can compare list and array as they have common operation to be performed over it. It is a ordered data-structure."
   ]
  },
  {
   "cell_type": "markdown",
   "id": "e15733d9",
   "metadata": {},
   "source": [
    "## 4. What is an expression made up of? What do all expressions do?\n",
    "\n",
    "Expressions are made up of variables and operators. It performs some operation or it gives instruction to execute over the machine."
   ]
  },
  {
   "cell_type": "markdown",
   "id": "a8746c33",
   "metadata": {},
   "source": [
    "## 5. This assignment statements, like spam = 10. What is the difference between an expression and a statement?\n",
    "\n",
    "Expression:\n",
    "\n",
    "Expressions only contain identifiers, literals and operators, where operators include arithmetic and boolean operators, the function call operator () the subscription operator [] and similar, and can be reduced to some kind of \"value\", which can be any Python object.\n",
    "\n",
    "Statements:\n",
    "\n",
    "Statements are everything that can make up a line (or several lines) of Python code. Expressions are statements as well."
   ]
  },
  {
   "cell_type": "markdown",
   "id": "b926a5d1",
   "metadata": {},
   "source": [
    "### 6. After running the following code, what does the variable bacon contain?\n",
    "##### bacon = 22\n",
    "##### bacon + 1\n",
    "\n",
    "When we print bacon, we will get 22 as response because we are not assigning the second statement to any varibale."
   ]
  },
  {
   "cell_type": "markdown",
   "id": "5c7aa257",
   "metadata": {},
   "source": [
    "### 7. What should the values of the following two terms be?\n",
    "##### &#39;spam&#39; + &#39;spamspam&#39;\n",
    "##### &#39;spam&#39; * 3\n",
    "\n",
    "1. \"spamspamspam\"\n",
    "2. \"spamspamspam\""
   ]
  },
  {
   "cell_type": "markdown",
   "id": "a1cb8ebe",
   "metadata": {},
   "source": [
    "### 8. Why is eggs a valid variable name while 100 is invalid?\n",
    "\n",
    "Because, varibale cannot starts with number. Variable can start with alphabets or underscore."
   ]
  },
  {
   "cell_type": "markdown",
   "id": "603e7904",
   "metadata": {},
   "source": [
    "### 9. What three functions can be used to get the integer, floating-point number, or string version of a value?\n",
    "\n",
    "int(value)\n",
    "\n",
    "float(value)\n",
    "\n",
    "str(value)"
   ]
  },
  {
   "cell_type": "markdown",
   "id": "1ade3bbc",
   "metadata": {},
   "source": [
    "### 10. Why does this expression cause an error? How can you fix it?\n",
    "##### &#39;I have eaten &#39; + 99 + &#39; burritos.&#39;\n",
    "\n",
    "In the above statement, we will get an error because two different datatypes cannot be merged. To make this statement, we need to parse 99 to string.\n",
    "\n",
    "\"I have eaten \" + str(99) + \"burritos.\""
   ]
  }
 ],
 "metadata": {
  "kernelspec": {
   "display_name": "Python 3",
   "language": "python",
   "name": "python3"
  },
  "language_info": {
   "codemirror_mode": {
    "name": "ipython",
    "version": 3
   },
   "file_extension": ".py",
   "mimetype": "text/x-python",
   "name": "python",
   "nbconvert_exporter": "python",
   "pygments_lexer": "ipython3",
   "version": "3.8.8"
  }
 },
 "nbformat": 4,
 "nbformat_minor": 5
}
