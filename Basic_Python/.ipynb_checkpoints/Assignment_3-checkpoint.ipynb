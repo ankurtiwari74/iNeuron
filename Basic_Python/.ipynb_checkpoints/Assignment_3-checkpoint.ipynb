{
 "cells": [
  {
   "cell_type": "markdown",
   "id": "d4f6a980",
   "metadata": {},
   "source": [
    "### 1. Why are functions advantageous to have in your programs?\n",
    "\n",
    "We can use that function at any place which will increase the code re-usebility, code will more readable, and easy to understand."
   ]
  },
  {
   "cell_type": "markdown",
   "id": "f54f1019",
   "metadata": {},
   "source": [
    "### 2. When does the code in a function run: when it&#39;s specified or when it&#39;s called?\n",
    "\n",
    "When it is called, the code inside a function will be executed only after the function is getting called."
   ]
  },
  {
   "cell_type": "markdown",
   "id": "ef182874",
   "metadata": {},
   "source": [
    "### 3. What statement creates a function?\n",
    "\n",
    "def function_name(option_args): This statement create the function and into it we can write the body of the function."
   ]
  },
  {
   "cell_type": "markdown",
   "id": "e88dae6c",
   "metadata": {},
   "source": [
    "### 4. What is the difference between a function and a function call?\n",
    "\n",
    "Function:\n",
    "A function is a block of code that does a particular operation and returns a result. \n",
    "\n",
    "Function-Call:\n",
    "A function call is the code used to pass control to a function."
   ]
  },
  {
   "cell_type": "markdown",
   "id": "9315c46c",
   "metadata": {},
   "source": [
    "### 5. How many global scopes are there in a Python program? How many local scopes?\n",
    "\n",
    "One global scope and one local scope."
   ]
  },
  {
   "cell_type": "markdown",
   "id": "0aee653e",
   "metadata": {},
   "source": [
    "### 6. What happens to variables in a local scope when the function call returns?\n",
    "\n",
    "Life-cycle of those variables in local scope when the function calls returns get over."
   ]
  },
  {
   "cell_type": "markdown",
   "id": "0514c48f",
   "metadata": {},
   "source": [
    "### 7. What is the concept of a return value? Is it possible to have a return value in an expression?\n",
    "\n",
    "A return is a value that a function returns to the calling object or function when it completes its task. Yes, that is poosibel to have a return in an expression."
   ]
  },
  {
   "cell_type": "markdown",
   "id": "bf6ef519",
   "metadata": {},
   "source": [
    "### 8. If a function does not have a return statement, what is the return value of a call to that function?\n",
    "\n",
    "None"
   ]
  },
  {
   "cell_type": "markdown",
   "id": "aadf448e",
   "metadata": {},
   "source": [
    "### 9. How do you make a function variable refer to the global variable?\n",
    "\n",
    "We need to specify in the function that the variable we are going to use is global using global keyword.\n",
    "\n",
    "eg. \n",
    "\n",
    "def function():\n",
    "\n",
    "    global a\n",
    "\n",
    "    a = a + 10"
   ]
  },
  {
   "cell_type": "markdown",
   "id": "4a6261eb",
   "metadata": {},
   "source": [
    "### 10. What is the data type of None?\n",
    "\n",
    "NoneType"
   ]
  },
  {
   "cell_type": "markdown",
   "id": "9e8a1ce0",
   "metadata": {},
   "source": [
    "### 11. What does the sentence import areallyourpetsnamederic do?\n",
    "\n",
    "It will import the package named areallyourpetsnamederic, all the functions and variables associated with it, will be imported."
   ]
  },
  {
   "cell_type": "markdown",
   "id": "1700ce16",
   "metadata": {},
   "source": [
    "### 12. If you had a bacon() feature in a spam module, what would you call it after importing spam?\n",
    "\n",
    "spam.bacon()"
   ]
  },
  {
   "cell_type": "markdown",
   "id": "2ccdc482",
   "metadata": {},
   "source": [
    "### 13. What can you do to save a programme from crashing if it encounters an error?\n",
    "\n",
    "We can use exceptional handling to save the program from runtime errors."
   ]
  },
  {
   "cell_type": "markdown",
   "id": "a02dad97",
   "metadata": {},
   "source": [
    "### 14. What is the purpose of the try clause? What is the purpose of the except clause?\n",
    "\n",
    "Any part of code which is likely to have run time exception, should be keep under try block. And the following except block, will handle the exception gracefully."
   ]
  }
 ],
 "metadata": {
  "kernelspec": {
   "display_name": "Python 3",
   "language": "python",
   "name": "python3"
  },
  "language_info": {
   "codemirror_mode": {
    "name": "ipython",
    "version": 3
   },
   "file_extension": ".py",
   "mimetype": "text/x-python",
   "name": "python",
   "nbconvert_exporter": "python",
   "pygments_lexer": "ipython3",
   "version": "3.8.8"
  }
 },
 "nbformat": 4,
 "nbformat_minor": 5
}
